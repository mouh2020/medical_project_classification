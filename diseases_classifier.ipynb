{
  "nbformat": 4,
  "nbformat_minor": 0,
  "metadata": {
    "colab": {
      "name": "Untitled0.ipynb",
      "provenance": [],
      "collapsed_sections": [],
      "authorship_tag": "ABX9TyM+mLMq2T7V6GTTEImjfav2",
      "include_colab_link": true
    },
    "kernelspec": {
      "name": "python3",
      "display_name": "Python 3"
    },
    "language_info": {
      "name": "python"
    },
    "accelerator": "GPU",
    "gpuClass": "standard"
  },
  "cells": [
    {
      "cell_type": "markdown",
      "metadata": {
        "id": "view-in-github",
        "colab_type": "text"
      },
      "source": [
        "<a href=\"https://colab.research.google.com/github/mouh2020/medical_project_classification/blob/master/diseases_classifier.ipynb\" target=\"_parent\"><img src=\"https://colab.research.google.com/assets/colab-badge.svg\" alt=\"Open In Colab\"/></a>"
      ]
    },
    {
      "cell_type": "code",
      "execution_count": 1,
      "metadata": {
        "id": "wk-scNbexTZo",
        "colab": {
          "base_uri": "https://localhost:8080/"
        },
        "outputId": "463f776f-7304-4ea3-ab4c-5a0eb9ab57fa"
      },
      "outputs": [
        {
          "output_type": "stream",
          "name": "stdout",
          "text": [
            "Drive already mounted at /content/drive; to attempt to forcibly remount, call drive.mount(\"/content/drive\", force_remount=True).\n"
          ]
        }
      ],
      "source": [
        "from google.colab import drive\n",
        "drive.mount('/content/drive')"
      ]
    },
    {
      "cell_type": "markdown",
      "source": [
        "**Mounting to drive**"
      ],
      "metadata": {
        "id": "8SgnLWTJRQBn"
      }
    },
    {
      "cell_type": "code",
      "source": [
        "%cd /content/drive/My Drive"
      ],
      "metadata": {
        "colab": {
          "base_uri": "https://localhost:8080/"
        },
        "id": "zhpaUehb3chE",
        "outputId": "425e334b-8888-46eb-b9a4-0ec03e6593b1"
      },
      "execution_count": 2,
      "outputs": [
        {
          "output_type": "stream",
          "name": "stdout",
          "text": [
            "/content/drive/My Drive\n"
          ]
        }
      ]
    },
    {
      "cell_type": "markdown",
      "source": [
        "**Download Inception Model**"
      ],
      "metadata": {
        "id": "m6_2Ybl1QfxT"
      }
    },
    {
      "cell_type": "code",
      "source": [
        "from urllib.request import urlretrieve\n",
        "\n",
        "url = 'https://github.com/OlafenwaMoses/ImageAI/releases/download/1.0/inception_v3_weights_tf_dim_ordering_tf_kernels.h5'\n",
        "dst = 'inception_v3_weights_tf_dim_ordering_tf_kernels.h5'\n",
        "urlretrieve(url, dst)"
      ],
      "metadata": {
        "id": "LaDDarcz8rqO"
      },
      "execution_count": null,
      "outputs": []
    },
    {
      "cell_type": "markdown",
      "source": [
        "**Create files according to IMAGEAI**"
      ],
      "metadata": {
        "id": "WQKAf2lgRh6G"
      }
    },
    {
      "cell_type": "code",
      "source": [
        "import pandas as pd\n",
        "import os\n",
        "data = pd.read_csv('sample_labels.csv')\n",
        "pathology_list = ['Effusion','Atelectasis',\"Infiltration\"]\n",
        "for pathology in pathology_list : \n",
        "  try : \n",
        "    os.mkdir('data/train/'+pathology)\n",
        "    os.mkdir('data/test/'+pathology)\n",
        "    print(f' {pathology} dir created')\n",
        "  except : \n",
        "    pass\n",
        "\n"
      ],
      "metadata": {
        "id": "TCuSOtu83k3c",
        "colab": {
          "base_uri": "https://localhost:8080/"
        },
        "outputId": "129efcc6-11c5-4277-8788-3c501daf5a82"
      },
      "execution_count": 38,
      "outputs": [
        {
          "output_type": "stream",
          "name": "stdout",
          "text": [
            " Effusion dir created\n",
            " Atelectasis dir created\n",
            " Infiltration dir created\n"
          ]
        }
      ]
    },
    {
      "cell_type": "markdown",
      "source": [
        "**Number of images**"
      ],
      "metadata": {
        "id": "XTMTqwk-WzE9"
      }
    },
    {
      "cell_type": "code",
      "source": [
        "dir = []\n",
        "for pathology in pathology_list :\n",
        "  for i in range(len(data['Finding Labels'])) : \n",
        "    if pathology in data['Finding Labels'][i] :\n",
        "      dir.append(pathology)\n",
        "  print(f'{pathology} has {len(dir)} images') \n",
        "  dir=[]\n",
        "print(len(data['Finding Labels']))\n",
        "\n",
        "\n"
      ],
      "metadata": {
        "colab": {
          "base_uri": "https://localhost:8080/"
        },
        "id": "Aqzx66KcWyMC",
        "outputId": "3aef7cac-3ac3-4656-c85b-fd87337669b6"
      },
      "execution_count": 60,
      "outputs": [
        {
          "output_type": "stream",
          "name": "stdout",
          "text": [
            "Effusion has 644 images\n",
            "Atelectasis has 508 images\n",
            "Infiltration has 967 images\n",
            "No Finding has 3044 images\n",
            "5606\n"
          ]
        }
      ]
    },
    {
      "cell_type": "markdown",
      "source": [
        "**Create directories json**"
      ],
      "metadata": {
        "id": "lGMIEXbuiiYq"
      }
    },
    {
      "cell_type": "code",
      "source": [
        "directory = {\n",
        "              \"Effusion\" :    [] ,\n",
        "              \"Atelectasis\": [],\n",
        "              \"Infiltration\":[]\n",
        "             }\n",
        "\n",
        "\n",
        "#shutil.move(\"/content/cat.10171.jpg\", \"/content/train\")\n",
        "def create_dir() : \n",
        "  for pathology in pathology_list :\n",
        "    for i in range(len(data['Finding Labels'])) :\n",
        "      if pathology in df['Finding Labels'][i] : \n",
        "        (directory[pathology]).append(df['Image Index'][i])\n",
        "  for pathology in pathology_list :\n",
        "    print(directory[pathology])   \n",
        "        \n",
        "\n",
        "create_dir() \n",
        "\n"
      ],
      "metadata": {
        "id": "yUqEHqkNdEbA"
      },
      "execution_count": null,
      "outputs": []
    },
    {
      "cell_type": "code",
      "source": [
        "import shutil\n",
        "def moving_data() :\n",
        "  for pathology in pathology_list : \n",
        "    for i in range(len(directory[pathology])) : \n",
        "      try :\n",
        "        if i < len(directory[pathology]) * 0.8 : ### to train folder:\n",
        "          \n",
        "          shutil.move('images/'+(directory[pathology])[i], 'data/train/'+pathology+\"/\"+(directory[pathology])[i])\n",
        "            \n",
        "        else : ### to test folde : \n",
        "          shutil.move('images/'+(directory[pathology])[i], 'data/test/'+pathology+\"/\"+(directory[pathology])[i])\n",
        "      except : \n",
        "        pass\n",
        "    print(f'{pathology} moved successfuly')\n",
        "moving_data()\n"
      ],
      "metadata": {
        "id": "xhPj07J0imu2"
      },
      "execution_count": null,
      "outputs": []
    },
    {
      "cell_type": "markdown",
      "source": [
        "**Check Files**"
      ],
      "metadata": {
        "id": "__PlW8aErgHt"
      }
    },
    {
      "cell_type": "code",
      "source": [
        "%cd /data/test/"
      ],
      "metadata": {
        "colab": {
          "base_uri": "https://localhost:8080/"
        },
        "id": "2VEf64FPrfNJ",
        "outputId": "a1f66278-970f-4556-b2df-d0ea5d22c3c9"
      },
      "execution_count": 80,
      "outputs": [
        {
          "output_type": "stream",
          "name": "stdout",
          "text": [
            "[Errno 2] No such file or directory: '/data/test/No Finding/'\n",
            "/content/drive/My Drive\n"
          ]
        }
      ]
    },
    {
      "cell_type": "markdown",
      "source": [
        "**Training section**"
      ],
      "metadata": {
        "id": "U54ZeUnYtSAh"
      }
    },
    {
      "cell_type": "code",
      "source": [
        "from imageai.Classification.Custom import ClassificationModelTrainer\n",
        "\n",
        "model_trainer = ClassificationModelTrainer()\n",
        "model_trainer.setModelTypeAsInceptionV3()\n",
        "model_trainer.setDataDirectory(r\"data/\")\n",
        "model_trainer.trainModel(num_objects=3, num_experiments=100, enhance_data=True, batch_size=8, show_network_summary=True)"
      ],
      "metadata": {
        "id": "asTCiwC-s1Cp"
      },
      "execution_count": null,
      "outputs": []
    },
    {
      "cell_type": "markdown",
      "source": [
        "**Load model**"
      ],
      "metadata": {
        "id": "JPHhWKHtDP8I"
      }
    },
    {
      "cell_type": "code",
      "source": [
        "from imageai.Classification.Custom import CustomImageClassification\n",
        "\n",
        "\n",
        "prediction = CustomImageClassification()\n",
        "prediction.setModelTypeAsInceptionV3()\n",
        "prediction.setModelPath(\"data/models/last.h5\")\n",
        "prediction.setJsonPath( \"data/json/model_class.json\")\n",
        "prediction.loadModel(num_objects=3)\n",
        "\n"
      ],
      "metadata": {
        "id": "yWf7FL1MDOe4"
      },
      "execution_count": null,
      "outputs": []
    },
    {
      "cell_type": "markdown",
      "source": [
        "**Test some images**"
      ],
      "metadata": {
        "id": "8q9Bsp_CgdZj"
      }
    },
    {
      "cell_type": "code",
      "source": [
        "predictions, probabilities = prediction.classifyImage(\"images/effusion-left.jpg\", result_count=5)\n",
        "\n",
        "for eachPrediction, eachProbability in zip(predictions, probabilities):\n",
        "    print(eachPrediction , \" : \" , eachProbability)"
      ],
      "metadata": {
        "colab": {
          "base_uri": "https://localhost:8080/"
        },
        "id": "BIlv4QtdEgjS",
        "outputId": "8883ceb0-9a8b-4abb-8859-7b43ee935fef"
      },
      "execution_count": 35,
      "outputs": [
        {
          "output_type": "stream",
          "name": "stdout",
          "text": [
            "Effusion  :  62.40086555480957\n",
            "Infiltration  :  27.221378684043884\n",
            "Atelectasis  :  10.377749800682068\n"
          ]
        }
      ]
    }
  ]
}